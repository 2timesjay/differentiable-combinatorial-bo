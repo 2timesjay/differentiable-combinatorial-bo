{
 "cells": [
  {
   "cell_type": "code",
   "execution_count": 1,
   "metadata": {},
   "outputs": [],
   "source": [
    "import torch\n",
    "torch.manual_seed(0)\n",
    "from torch.nn import Module\n",
    "\n",
    "# device = torch.device(\"cuda\" if torch.cuda.is_available() else \"cpu\")\n",
    "device = \"cpu\"\n",
    "dtype = torch.double\n",
    "\n",
    "from botorch.test_functions.synthetic import SyntheticTestFunction\n",
    "from torch import Tensor\n",
    "import torch\n",
    "from typing import Optional\n"
   ]
  },
  {
   "cell_type": "code",
   "execution_count": 2,
   "metadata": {},
   "outputs": [],
   "source": [
    "from fast_soft_sort import pytorch_ops\n",
    "import functools"
   ]
  },
  {
   "cell_type": "code",
   "execution_count": 3,
   "metadata": {},
   "outputs": [],
   "source": [
    "DIM = 12\n",
    "K = 8"
   ]
  },
  {
   "cell_type": "code",
   "execution_count": 4,
   "metadata": {},
   "outputs": [],
   "source": [
    "from permutation_transforms import RankRoundTransform, PerturbedRankTransform, SoftRankTransform"
   ]
  },
  {
   "cell_type": "code",
   "execution_count": 5,
   "metadata": {},
   "outputs": [
    {
     "data": {
      "text/plain": [
       "tensor([[0.6667, 0.3333, 0.0000, 0.3069, 0.2150, 0.2637, 0.0595, 0.1170, 0.1938,\n",
       "         0.0961, 0.1510, 0.0589]], dtype=torch.float64)"
      ]
     },
     "execution_count": 5,
     "metadata": {},
     "output_type": "execute_result"
    }
   ],
   "source": [
    "hard_round_transform = RankRoundTransform(indices=[0, 1, 2], hard=True)\n",
    "hard_round_transform(torch.rand(1, DIM, dtype=dtype))"
   ]
  },
  {
   "cell_type": "code",
   "execution_count": 6,
   "metadata": {},
   "outputs": [
    {
     "name": "stdout",
     "output_type": "stream",
     "text": [
      "tensor([[0.5078, 0.5967, 0.5500, 0.5363, 0.5251, 0.4578, 0.6110, 0.6510, 0.4595,\n",
      "         0.6149, 0.4259, 0.5639]], dtype=torch.float64)\n",
      "tensor([[0.2500, 0.6667, 0.5000, 0.4167, 0.3333, 0.0833, 0.7500, 0.9167, 0.1667,\n",
      "         0.8333, 0.0000, 0.5833]], dtype=torch.float64)\n",
      "tensor([[0.2500, 0.6667, 0.5000, 0.4167, 0.3333, 0.0839, 0.7500, 0.9167, 0.1661,\n",
      "         0.8333, 0.0000, 0.5833]], dtype=torch.float64)\n"
     ]
    }
   ],
   "source": [
    "ranked_indices = range(DIM)\n",
    "soft_rank_transform = SoftRankTransform(indices=ranked_indices, regularization_strength=0.25, regularization_type=\"l2\")\n",
    "pert_rank_transform = PerturbedRankTransform(indices=ranked_indices, num_samples=1000, sigma=0.03)\n",
    "hard_round_transform = RankRoundTransform(indices=ranked_indices, hard=True)\n",
    "soft_round_transform = RankRoundTransform(indices=ranked_indices, hard=False, tau=1e-3)\n",
    "\n",
    "label_to_transform_dict = {\n",
    "    \"soft_rank_transform\": soft_rank_transform,\n",
    "#     \"pert_rank_transform\": pert_rank_transform,\n",
    "    \"gpei\": None, \n",
    "    \"hard_round\": hard_round_transform, \n",
    "    \"soft_round\": soft_round_transform, \n",
    "}\n",
    "\n",
    "rand_mat = torch.rand(1, DIM, device=device, dtype=dtype)\n",
    "for transform in label_to_transform_dict.values():\n",
    "    if transform:\n",
    "        print(transform(rand_mat))"
   ]
  },
  {
   "cell_type": "code",
   "execution_count": 7,
   "metadata": {},
   "outputs": [
    {
     "data": {
      "text/plain": [
       "tensor([ 0.1329,  0.5245, -0.5035, -0.2238,  0.1049,  0.0769,  0.0699, -0.0629,\n",
       "         0.3147,  0.2937], dtype=torch.float64)"
      ]
     },
     "execution_count": 7,
     "metadata": {},
     "output_type": "execute_result"
    }
   ],
   "source": [
    "from permutation_synthetic_functions import PermutationCorrelation\n",
    "perm = PermutationCorrelation(dim=DIM, n=1)\n",
    "# topk = TopK(dim=DIM, k=K)\n",
    "# hartmann_over_perm = HartmannPermutationConstrained(negate=True)\n",
    "# jennaton = Jennaton(negate=True)\n",
    "\n",
    "def weighted_obj(X):\n",
    "    \"\"\"Feasibility weighted objective; zero if not feasible.\"\"\"\n",
    "    return perm(X)\n",
    "\n",
    "# torch.max(weighted_obj(torch.rand(16, 6, DIM, device=device)), dim=-1)\n",
    "# weighted_obj(perm.target_perms[0])\n",
    "# weighted_obj(topk.target_vals)\n",
    "weighted_obj(torch.rand(10, DIM, device=device, dtype=dtype))"
   ]
  },
  {
   "cell_type": "code",
   "execution_count": 8,
   "metadata": {},
   "outputs": [],
   "source": [
    "BATCH_SIZE = 1\n",
    "N_TRIALS = 3\n",
    "N_BATCH = 25\n",
    "N_INITIAL_BATCHES = 5"
   ]
  },
  {
   "cell_type": "code",
   "execution_count": 9,
   "metadata": {},
   "outputs": [],
   "source": [
    "from experiment_utils import generate_test_run, initialize_ranking_model"
   ]
  },
  {
   "cell_type": "code",
   "execution_count": 10,
   "metadata": {
    "scrolled": true
   },
   "outputs": [],
   "source": [
    "import numpy as np\n",
    "from matplotlib import pyplot as plt\n",
    "%matplotlib inline\n",
    "def plot_results(label_to_results_dict, y_min=0.5, y_max=1.0):\n",
    "\n",
    "    def ci(y):\n",
    "        return 1.96 * y.std(axis=0) / np.sqrt(N_TRIALS)\n",
    "\n",
    "    import math\n",
    "    GLOBAL_MAXIMUM = y_max\n",
    "\n",
    "\n",
    "    fig, ax = plt.subplots(1, 1, figsize=(8, 6))\n",
    "    iters = np.arange(N_BATCH + 1) * BATCH_SIZE\n",
    "\n",
    "    for label, results in label_to_results_dict.items():\n",
    "        y = np.asarray(results)\n",
    "        ax.errorbar(iters, y.mean(axis=0), yerr=ci(y), label=label, linewidth=1.5)\n",
    "\n",
    "    plt.plot([0, N_BATCH * BATCH_SIZE], [GLOBAL_MAXIMUM] * 2, 'k', label=\"true best objective\", linewidth=2)\n",
    "    ax.set_ylim(bottom=y_min)\n",
    "    ax.set(xlabel='number of observations (beyond initial points)', ylabel='best objective value')\n",
    "    ax.legend(loc=\"upper left\")\n",
    "    \n",
    "import json\n",
    "def save_results(experiment_title):\n",
    "    # experiment_title = \"ranking_main_test_jennaton_one_hot_noise_0_0_fast_opt\"\n",
    "    file = open(f\"{experiment_title}_results.json\", 'w')\n",
    "    json.dump(label_to_results_dict, file)\n",
    "\n",
    "    file.flush()\n",
    "    file.close()\n",
    "    \n",
    "def performance_summary(label_to_results_dict):\n",
    "    label_to_performance_dict = {\n",
    "        label: np.asarray(results).mean(axis=0)[-1] for label, results in label_to_results_dict.items()\n",
    "    }\n",
    "\n",
    "    label_to_performance_dict\n",
    "\n",
    "\n",
    "    import pandas as pd\n",
    "    rows = []\n",
    "    for label, performance in label_to_performance_dict.items():\n",
    "        rows.append({\"label\": label, \"performance\": performance})\n",
    "\n",
    "    return pd.DataFrame(rows)"
   ]
  },
  {
   "cell_type": "code",
   "execution_count": 11,
   "metadata": {},
   "outputs": [],
   "source": [
    "ranked_indices = range(DIM)\n",
    "soft_rank_transform = SoftRankTransform(indices=ranked_indices, regularization_strength=0.25, regularization_type=\"l2\")\n",
    "pert_rank_transform = PerturbedRankTransform(indices=ranked_indices, num_samples=1000, sigma=0.03)\n",
    "hard_round_transform = RankRoundTransform(indices=ranked_indices, hard=True)\n",
    "soft_round_transform = RankRoundTransform(indices=ranked_indices, hard=False, tau=1e-3)\n",
    "\n",
    "import itertools\n",
    "\n",
    "label_to_transform_dict = {\n",
    "    \"soft_rank_transform\": soft_rank_transform,\n",
    "    \"pert_rank_transform\": pert_rank_transform,\n",
    "    \"gpei\": None, \n",
    "    \"hard_round\": hard_round_transform, \n",
    "    \"soft_round\": soft_round_transform, \n",
    "}"
   ]
  },
  {
   "cell_type": "code",
   "execution_count": 12,
   "metadata": {},
   "outputs": [],
   "source": [
    "experiment_results = {}"
   ]
  },
  {
   "cell_type": "code",
   "execution_count": 28,
   "metadata": {
    "scrolled": true
   },
   "outputs": [
    {
     "name": "stdout",
     "output_type": "stream",
     "text": [
      "\n",
      "Trial  1 of 32 ....................\n",
      "Trial  2 of 32 ....................\n",
      "Trial  3 of 32 ....................\n",
      "Trial  4 of 32 ....................\n",
      "Trial  5 of 32 ....................\n",
      "Trial  6 of 32 ....................\n",
      "Trial  7 of 32 ....................\n",
      "Trial  8 of 32 ....................\n",
      "Trial  9 of 32 ....................\n",
      "Trial 10 of 32 ....................\n",
      "Trial 11 of 32 ....................\n",
      "Trial 12 of 32 ....................\n",
      "Trial 13 of 32 ....................\n",
      "Trial 14 of 32 ....................\n",
      "Trial 15 of 32 ....................\n",
      "Trial 16 of 32 ....................\n",
      "Trial 17 of 32 ....................\n",
      "Trial 18 of 32 ....................\n",
      "Trial 19 of 32 ....................\n",
      "Trial 20 of 32 ....................\n",
      "Trial 21 of 32 ....................\n",
      "Trial 22 of 32 ....................\n",
      "Trial 23 of 32 ....................\n",
      "Trial 24 of 32 ....................\n",
      "Trial 25 of 32 ....................\n",
      "Trial 26 of 32 ....................\n",
      "Trial 27 of 32 ....................\n",
      "Trial 28 of 32 ....................\n",
      "Trial 29 of 32 ....................\n",
      "Trial 30 of 32 ....................\n",
      "Trial 31 of 32 ....................\n",
      "Trial 32 of 32 ....................\n",
      "Trial  1 of 32 ...\n",
      "Trial  1 of 32 ....................\n",
      "Trial  2 of 32 ....................\n",
      "Trial  3 of 32 ....................\n",
      "Trial  4 of 32 ....................\n",
      "Trial  5 of 32 ....................\n",
      "Trial  6 of 32 ....................\n",
      "Trial  7 of 32 ....................\n",
      "Trial  8 of 32 ....................\n",
      "Trial  9 of 32 ....................\n",
      "Trial 10 of 32 ....................\n",
      "Trial 11 of 32 ....................\n",
      "Trial 12 of 32 ....................\n",
      "Trial 13 of 32 ....................\n",
      "Trial 14 of 32 ....................\n",
      "Trial 15 of 32 ....................\n",
      "Trial 16 of 32 ....................\n",
      "Trial 17 of 32 ....................\n",
      "Trial 18 of 32 ....................\n",
      "Trial 19 of 32 ....................\n",
      "Trial 20 of 32 ....................\n",
      "Trial 21 of 32 ....................\n",
      "Trial 22 of 32 ....................\n",
      "Trial 23 of 32 ....................\n",
      "Trial 24 of 32 ....................\n",
      "Trial 25 of 32 ....................\n",
      "Trial 26 of 32 ....................\n",
      "Trial 27 of 32 ....................\n",
      "Trial 28 of 32 ....................\n",
      "Trial 29 of 32 ....................\n",
      "Trial 30 of 32 ....................\n",
      "Trial 31 of 32 ....................\n",
      "Trial 32 of 32 ....................\n",
      "Trial  1 of 32 ....................\n",
      "Trial  2 of 32 ....................\n",
      "Trial  3 of 32 ....................\n",
      "Trial  4 of 32 ....................\n",
      "Trial  5 of 32 ....................\n",
      "Trial  6 of 32 ....................\n",
      "Trial  7 of 32 ....................\n",
      "Trial  8 of 32 ....................\n",
      "Trial  9 of 32 ....................\n",
      "Trial 10 of 32 ....................\n",
      "Trial 11 of 32 ....................\n",
      "Trial 12 of 32 ....................\n",
      "Trial 13 of 32 ....................\n",
      "Trial 14 of 32 ....................\n",
      "Trial 15 of 32 ....................\n",
      "Trial 16 of 32 ....................\n",
      "Trial 17 of 32 ....................\n",
      "Trial 18 of 32 ....................\n",
      "Trial 19 of 32 ....................\n",
      "Trial 20 of 32 ....................\n",
      "Trial 21 of 32 ....................\n",
      "Trial 22 of 32 ....................\n",
      "Trial 23 of 32 ....................\n",
      "Trial 24 of 32 ....................\n",
      "Trial 25 of 32 ....................\n",
      "Trial 26 of 32 ....................\n",
      "Trial 27 of 32 ....................\n",
      "Trial 28 of 32 ....................\n",
      "Trial 29 of 32 ....................\n",
      "Trial 30 of 32 ....................\n",
      "Trial 31 of 32 ....................\n",
      "Trial 32 of 32 ....................\n",
      "Trial  1 of 32 ....................\n",
      "Trial  2 of 32 ....................\n",
      "Trial  3 of 32 ....................\n",
      "Trial  4 of 32 ....................\n",
      "Trial  5 of 32 ....................\n",
      "Trial  6 of 32 ....................\n",
      "Trial  7 of 32 ....................\n",
      "Trial  8 of 32 ....................\n",
      "Trial  9 of 32 ....................\n",
      "Trial 10 of 32 ....................\n",
      "Trial 11 of 32 ....................\n",
      "Trial 12 of 32 ....................\n",
      "Trial 13 of 32 ....................\n",
      "Trial 14 of 32 ....................\n",
      "Trial 15 of 32 ....................\n",
      "Trial 16 of 32 ....................\n",
      "Trial 17 of 32 ....................\n",
      "Trial 18 of 32 ....................\n",
      "Trial 19 of 32 ....................\n",
      "Trial 20 of 32 ....................\n",
      "Trial 21 of 32 ....................\n",
      "Trial 22 of 32 ....................\n",
      "Trial 23 of 32 ....................\n",
      "Trial 24 of 32 ....................\n",
      "Trial 25 of 32 ....................\n",
      "Trial 26 of 32 ....................\n",
      "Trial 27 of 32 ....................\n",
      "Trial 28 of 32 ....................\n",
      "Trial 29 of 32 ....................\n",
      "Trial 30 of 32 ....................\n",
      "Trial 31 of 32 ....................\n",
      "Trial 32 of 32 ....................{'pert_rank_transform': RuntimeError('144 elements of the 144 element gradient array `gradf` are NaN. This often indicates numerical issues.')}\n",
      "total time 5071.173256635666\n"
     ]
    }
   ],
   "source": [
    "# Set Noise\n",
    "NOISE_SE = 0.2\n",
    "label_to_model_dict = {\n",
    "    label: functools.partial(\n",
    "        initialize_ranking_model, model_type=\"FNGP\", noise_se=NOISE_SE, transform=transform\n",
    "    )\n",
    "    for label, transform in label_to_transform_dict.items()\n",
    "}\n",
    "label_to_results_dict = {}\n",
    "exceptions = {}\n",
    "\n",
    "initial_data_list, run_trials = generate_test_run(\n",
    "    obj_func=weighted_obj,\n",
    "    dim=DIM,\n",
    "    batch_size=BATCH_SIZE,\n",
    "    n_trials=N_TRIALS,\n",
    "    n_bo_batch=N_BATCH,\n",
    "    n_sobol_batch=N_INITIAL_BATCHES,\n",
    "    noise_se=NOISE_SE,\n",
    ")\n",
    "\n",
    "import time\n",
    "start = time.time()\n",
    "for label, model in label_to_model_dict.items():\n",
    "    try:\n",
    "        label_to_results_dict[label] = run_trials(N_TRIALS, model, label, initial_data_list)\n",
    "    except Exception as e:\n",
    "        exceptions[label] = e\n",
    "end = time.time()\n",
    "\n",
    "name = \"noise_{noise_se}\"\n",
    "experiment_results[name] = label_to_results_dict\n",
    "print(exceptions)\n",
    "# %debug\n",
    "print(\"total time\", end-start)"
   ]
  },
  {
   "cell_type": "code",
   "execution_count": 29,
   "metadata": {},
   "outputs": [
    {
     "data": {
      "text/html": [
       "<div>\n",
       "<style scoped>\n",
       "    .dataframe tbody tr th:only-of-type {\n",
       "        vertical-align: middle;\n",
       "    }\n",
       "\n",
       "    .dataframe tbody tr th {\n",
       "        vertical-align: top;\n",
       "    }\n",
       "\n",
       "    .dataframe thead th {\n",
       "        text-align: right;\n",
       "    }\n",
       "</style>\n",
       "<table border=\"1\" class=\"dataframe\">\n",
       "  <thead>\n",
       "    <tr style=\"text-align: right;\">\n",
       "      <th></th>\n",
       "      <th>label</th>\n",
       "      <th>performance</th>\n",
       "    </tr>\n",
       "  </thead>\n",
       "  <tbody>\n",
       "    <tr>\n",
       "      <th>0</th>\n",
       "      <td>soft_rank_transform</td>\n",
       "      <td>0.890953</td>\n",
       "    </tr>\n",
       "    <tr>\n",
       "      <th>1</th>\n",
       "      <td>gpei</td>\n",
       "      <td>0.803322</td>\n",
       "    </tr>\n",
       "    <tr>\n",
       "      <th>2</th>\n",
       "      <td>hard_round</td>\n",
       "      <td>0.863418</td>\n",
       "    </tr>\n",
       "    <tr>\n",
       "      <th>3</th>\n",
       "      <td>soft_round</td>\n",
       "      <td>0.861014</td>\n",
       "    </tr>\n",
       "  </tbody>\n",
       "</table>\n",
       "</div>"
      ],
      "text/plain": [
       "                 label  performance\n",
       "0  soft_rank_transform     0.890953\n",
       "1                 gpei     0.803322\n",
       "2           hard_round     0.863418\n",
       "3           soft_round     0.861014"
      ]
     },
     "execution_count": 29,
     "metadata": {},
     "output_type": "execute_result"
    },
    {
     "data": {
      "image/png": "[encoded data removed]",
      "text/plain": [
       "<Figure size 576x432 with 1 Axes>"
      ]
     },
     "metadata": {
      "needs_background": "light"
     },
     "output_type": "display_data"
    }
   ],
   "source": [
    "plot_results(experiment_results[name])\n",
    "\n",
    "performance_summary(experiment_results[name])"
   ]
  },
  {
   "cell_type": "code",
   "execution_count": 27,
   "metadata": {},
   "outputs": [
    {
     "data": {
      "text/plain": [
       "tensor([-0.0203,  0.7077,  0.7583,  0.7778,  0.7924,  0.8050,  0.8155,  0.8211,\n",
       "         0.8249,  0.8303,  0.8327,  0.8344,  0.8384,  0.8408,  0.8436,  0.8465,\n",
       "         0.8483,  0.8507,  0.8522,  0.8540,  0.8552,  0.8566,  0.8576,  0.8587,\n",
       "         0.8600,  0.8613,  0.8614,  0.8621,  0.8636,  0.8652,  0.8659,  0.8659,\n",
       "         0.8685,  0.8692,  0.8692,  0.8707,  0.8723,  0.8742,  0.8745,  0.8757,\n",
       "         0.8778,  0.8785,  0.8785,  0.8787,  0.8791,  0.8808,  0.8815,  0.8820,\n",
       "         0.8824,  0.8832,  0.8838,  0.8848,  0.8854,  0.8862,  0.8867,  0.8873,\n",
       "         0.8876,  0.8879,  0.8885,  0.8885,  0.8885,  0.8887,  0.8901,  0.8903,\n",
       "         0.8908,  0.8908,  0.8908,  0.8908,  0.8917,  0.8924,  0.8927,  0.8927,\n",
       "         0.8927,  0.8928,  0.8929,  0.8929,  0.8931,  0.8933,  0.8933,  0.8934,\n",
       "         0.8935,  0.8935,  0.8936,  0.8939,  0.8939,  0.8946,  0.8951,  0.8953,\n",
       "         0.8953,  0.8953,  0.8953,  0.8957,  0.8963,  0.8964,  0.8964,  0.8965,\n",
       "         0.8966,  0.8969,  0.8972,  0.8972], dtype=torch.float64)"
      ]
     },
     "execution_count": 27,
     "metadata": {},
     "output_type": "execute_result"
    }
   ],
   "source": [
    "max_so_far = -1\n",
    "trials = 100\n",
    "samples = 10000\n",
    "random_train_x = torch.rand(trials*samples, DIM, device=device, dtype=dtype)\n",
    "random_evaluations = weighted_obj(random_train_x).reshape(trials, samples)\n",
    "mean_running_max = random_evaluations.cummax(-1).values.mean(dim=0)\n",
    "mean_running_max[range(0, samples, int(samples/100))]"
   ]
  },
  {
   "cell_type": "code",
   "execution_count": null,
   "metadata": {},
   "outputs": [],
   "source": []
  }
 ],
 "metadata": {
  "kernelspec": {
   "display_name": "Python 3",
   "language": "python",
   "name": "python3"
  },
  "language_info": {
   "codemirror_mode": {
    "name": "ipython",
    "version": 3
   },
   "file_extension": ".py",
   "mimetype": "text/x-python",
   "name": "python",
   "nbconvert_exporter": "python",
   "pygments_lexer": "ipython3",
   "version": "3.8.5"
  }
 },
 "nbformat": 4,
 "nbformat_minor": 2
}
