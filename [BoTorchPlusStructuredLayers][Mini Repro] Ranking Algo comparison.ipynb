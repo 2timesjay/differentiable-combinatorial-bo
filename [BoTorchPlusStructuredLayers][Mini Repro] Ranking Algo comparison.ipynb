{
 "cells": [
  {
   "cell_type": "code",
   "execution_count": 1,
   "metadata": {},
   "outputs": [],
   "source": [
    "import torch\n",
    "torch.manual_seed(0)\n",
    "from torch.nn import Module\n",
    "\n",
    "# device = torch.device(\"cuda\" if torch.cuda.is_available() else \"cpu\")\n",
    "device = \"cpu\"\n",
    "dtype = torch.double\n",
    "\n",
    "from botorch.test_functions.synthetic import SyntheticTestFunction\n",
    "from torch import Tensor\n",
    "import torch\n",
    "from typing import Optional\n"
   ]
  },
  {
   "cell_type": "code",
   "execution_count": 2,
   "metadata": {},
   "outputs": [],
   "source": [
    "from fast_soft_sort import pytorch_ops\n",
    "import functools"
   ]
  },
  {
   "cell_type": "code",
   "execution_count": 3,
   "metadata": {},
   "outputs": [],
   "source": [
    "DIM = 12\n",
    "K = 8"
   ]
  },
  {
   "cell_type": "code",
   "execution_count": 4,
   "metadata": {},
   "outputs": [],
   "source": [
    "from permutation_transforms import RankRoundTransform, PerturbedRankTransform, SoftRankTransform"
   ]
  },
  {
   "cell_type": "code",
   "execution_count": 5,
   "metadata": {},
   "outputs": [
    {
     "data": {
      "text/plain": [
       "tensor([[0.6667, 0.3333, 0.0000, 0.3069, 0.2150, 0.2637, 0.0595, 0.1170, 0.1938,\n",
       "         0.0961, 0.1510, 0.0589]], dtype=torch.float64)"
      ]
     },
     "execution_count": 5,
     "metadata": {},
     "output_type": "execute_result"
    }
   ],
   "source": [
    "hard_round_transform = RankRoundTransform(indices=[0, 1, 2], hard=True)\n",
    "hard_round_transform(torch.rand(1, DIM, dtype=dtype))"
   ]
  },
  {
   "cell_type": "code",
   "execution_count": 6,
   "metadata": {},
   "outputs": [
    {
     "name": "stdout",
     "output_type": "stream",
     "text": [
      "tensor([[0.5078, 0.5967, 0.5500, 0.5363, 0.5251, 0.4578, 0.6110, 0.6510, 0.4595,\n",
      "         0.6149, 0.4259, 0.5639]], dtype=torch.float64)\n",
      "tensor([[0.2500, 0.6667, 0.5000, 0.4167, 0.3333, 0.0833, 0.7500, 0.9167, 0.1667,\n",
      "         0.8333, 0.0000, 0.5833]], dtype=torch.float64)\n",
      "tensor([[0.2500, 0.6667, 0.5000, 0.4167, 0.3333, 0.0839, 0.7500, 0.9167, 0.1661,\n",
      "         0.8333, 0.0000, 0.5833]], dtype=torch.float64)\n"
     ]
    }
   ],
   "source": [
    "ranked_indices = range(DIM)\n",
    "soft_rank_transform = SoftRankTransform(indices=ranked_indices, regularization_strength=0.25, regularization_type=\"l2\")\n",
    "pert_rank_transform = PerturbedRankTransform(indices=ranked_indices, num_samples=1000, sigma=0.03)\n",
    "hard_round_transform = RankRoundTransform(indices=ranked_indices, hard=True)\n",
    "soft_round_transform = RankRoundTransform(indices=ranked_indices, hard=False, tau=1e-3)\n",
    "\n",
    "label_to_transform_dict = {\n",
    "    \"soft_rank_transform\": soft_rank_transform,\n",
    "#     \"pert_rank_transform\": pert_rank_transform,\n",
    "    \"gpei\": None, \n",
    "    \"hard_round\": hard_round_transform, \n",
    "    \"soft_round\": soft_round_transform, \n",
    "}\n",
    "\n",
    "rand_mat = torch.rand(1, DIM, device=device, dtype=dtype)\n",
    "for transform in label_to_transform_dict.values():\n",
    "    if transform:\n",
    "        print(transform(rand_mat))"
   ]
  },
  {
   "cell_type": "code",
   "execution_count": 7,
   "metadata": {},
   "outputs": [
    {
     "data": {
      "text/plain": [
       "tensor([ 0.1329,  0.5245, -0.5035, -0.2238,  0.1049,  0.0769,  0.0699, -0.0629,\n",
       "         0.3147,  0.2937], dtype=torch.float64)"
      ]
     },
     "execution_count": 7,
     "metadata": {},
     "output_type": "execute_result"
    }
   ],
   "source": [
    "from permutation_synthetic_functions import PermutationCorrelation\n",
    "perm = PermutationCorrelation(dim=DIM, n=1)\n",
    "# topk = TopK(dim=DIM, k=K)\n",
    "# hartmann_over_perm = HartmannPermutationConstrained(negate=True)\n",
    "# jennaton = Jennaton(negate=True)\n",
    "\n",
    "def weighted_obj(X):\n",
    "    \"\"\"Feasibility weighted objective; zero if not feasible.\"\"\"\n",
    "    return perm(X)\n",
    "\n",
    "# torch.max(weighted_obj(torch.rand(16, 6, DIM, device=device)), dim=-1)\n",
    "# weighted_obj(perm.target_perms[0])\n",
    "# weighted_obj(topk.target_vals)\n",
    "weighted_obj(torch.rand(10, DIM, device=device, dtype=dtype))"
   ]
  },
  {
   "cell_type": "code",
   "execution_count": 8,
   "metadata": {},
   "outputs": [],
   "source": [
    "BATCH_SIZE = 1\n",
    "N_TRIALS = 3\n",
    "N_BATCH = 25\n",
    "N_INITIAL_BATCHES = 5"
   ]
  },
  {
   "cell_type": "code",
   "execution_count": 9,
   "metadata": {},
   "outputs": [],
   "source": [
    "from experiment_utils import generate_test_run, initialize_ranking_model"
   ]
  },
  {
   "cell_type": "code",
   "execution_count": 17,
   "metadata": {
    "scrolled": true
   },
   "outputs": [],
   "source": [
    "import numpy as np\n",
    "from matplotlib import pyplot as plt\n",
    "%matplotlib inline\n",
    "def plot_results(label_to_results_dict, y_min=0.5, y_max=1.0):\n",
    "\n",
    "    def ci(y):\n",
    "        return 1.96 * y.std(axis=0) / np.sqrt(N_TRIALS)\n",
    "\n",
    "    import math\n",
    "    GLOBAL_MAXIMUM = y_max\n",
    "\n",
    "\n",
    "    fig, ax = plt.subplots(1, 1, figsize=(8, 6))\n",
    "    iters = np.arange(N_BATCH + 1) * BATCH_SIZE\n",
    "\n",
    "    for label, results in label_to_results_dict.items():\n",
    "        y = np.asarray(results)\n",
    "        ax.errorbar(iters, y.mean(axis=0), yerr=ci(y), label=label, linewidth=1.5)\n",
    "\n",
    "    plt.plot([0, N_BATCH * BATCH_SIZE], [GLOBAL_MAXIMUM] * 2, 'k', label=\"true best objective\", linewidth=2)\n",
    "    ax.set_ylim(bottom=y_min)\n",
    "    ax.set(xlabel='number of observations (beyond initial points)', ylabel='best objective value')\n",
    "    ax.legend(loc=\"upper left\")\n",
    "    \n",
    "import json\n",
    "def save_results(experiment_title):\n",
    "    # experiment_title = \"ranking_main_test_jennaton_one_hot_noise_0_0_fast_opt\"\n",
    "    file = open(f\"{experiment_title}_results.json\", 'w')\n",
    "    json.dump(label_to_results_dict, file)\n",
    "\n",
    "    file.flush()\n",
    "    file.close()\n",
    "    \n",
    "def performance_summary(label_to_results_dict):\n",
    "    label_to_performance_dict = {\n",
    "        label: np.asarray(results).mean(axis=0)[-1] for label, results in label_to_results_dict.items()\n",
    "    }\n",
    "\n",
    "    label_to_performance_dict\n",
    "\n",
    "    rows = []\n",
    "    for label, performance in label_to_performance_dict.items():\n",
    "        rows.append({\"label\": label, \"performance\": performance})\n",
    "\n",
    "    return rows"
   ]
  },
  {
   "cell_type": "code",
   "execution_count": 11,
   "metadata": {},
   "outputs": [],
   "source": [
    "ranked_indices = range(DIM)\n",
    "soft_rank_transform = SoftRankTransform(indices=ranked_indices, regularization_strength=0.25, regularization_type=\"l2\")\n",
    "pert_rank_transform = PerturbedRankTransform(indices=ranked_indices, num_samples=1000, sigma=0.03)\n",
    "hard_round_transform = RankRoundTransform(indices=ranked_indices, hard=True)\n",
    "soft_round_transform = RankRoundTransform(indices=ranked_indices, hard=False, tau=1e-3)\n",
    "\n",
    "import itertools\n",
    "\n",
    "label_to_transform_dict = {\n",
    "    \"soft_rank_transform\": soft_rank_transform,\n",
    "    \"pert_rank_transform\": pert_rank_transform,\n",
    "    \"gpei\": None, \n",
    "    \"hard_round\": hard_round_transform, \n",
    "    \"soft_round\": soft_round_transform, \n",
    "}"
   ]
  },
  {
   "cell_type": "code",
   "execution_count": 12,
   "metadata": {},
   "outputs": [],
   "source": [
    "experiment_results = {}"
   ]
  },
  {
   "cell_type": "code",
   "execution_count": 13,
   "metadata": {
    "scrolled": true
   },
   "outputs": [
    {
     "name": "stdout",
     "output_type": "stream",
     "text": [
      "\n",
      "Trial  1 of 3 .........................\n",
      "Trial  2 of 3 .........................\n",
      "Trial  3 of 3 .........................\n",
      "Trial  1 of 3 .........................\n",
      "Trial  2 of 3 .........................\n",
      "Trial  3 of 3 .........................\n",
      "Trial  1 of 3 .........................\n",
      "Trial  2 of 3 .........................\n",
      "Trial  3 of 3 .........................\n",
      "Trial  1 of 3 .........................\n",
      "Trial  2 of 3 .........................\n",
      "Trial  3 of 3 .........................\n",
      "Trial  1 of 3 .........................\n",
      "Trial  2 of 3 .........................\n",
      "Trial  3 of 3 .........................{}\n",
      "total time 819.7105107307434\n"
     ]
    }
   ],
   "source": [
    "# Set Noise\n",
    "NOISE_SE = 0.2\n",
    "label_to_model_dict = {\n",
    "    label: functools.partial(\n",
    "        initialize_ranking_model, model_type=\"FNGP\", noise_se=NOISE_SE, transform=transform\n",
    "    )\n",
    "    for label, transform in label_to_transform_dict.items()\n",
    "}\n",
    "label_to_results_dict = {}\n",
    "exceptions = {}\n",
    "\n",
    "initial_data_list, run_trials = generate_test_run(\n",
    "    obj_func=weighted_obj,\n",
    "    dim=DIM,\n",
    "    batch_size=BATCH_SIZE,\n",
    "    n_trials=N_TRIALS,\n",
    "    n_bo_batch=N_BATCH,\n",
    "    n_sobol_batch=N_INITIAL_BATCHES,\n",
    "    noise_se=NOISE_SE,\n",
    ")\n",
    "\n",
    "import time\n",
    "start = time.time()\n",
    "for label, model in label_to_model_dict.items():\n",
    "    try:\n",
    "        label_to_results_dict[label] = run_trials(N_TRIALS, model, label, initial_data_list)\n",
    "    except Exception as e:\n",
    "        exceptions[label] = e\n",
    "end = time.time()\n",
    "\n",
    "name = \"noise_{noise_se}\"\n",
    "experiment_results[name] = label_to_results_dict\n",
    "print(exceptions)\n",
    "# %debug\n",
    "print(\"total time\", end-start)"
   ]
  },
  {
   "cell_type": "code",
   "execution_count": 18,
   "metadata": {},
   "outputs": [
    {
     "data": {
      "text/plain": [
       "[{'label': 'soft_rank_transform', 'performance': 0.7692307692307693},\n",
       " {'label': 'pert_rank_transform', 'performance': 0.745920745920746},\n",
       " {'label': 'gpei', 'performance': 0.5244755244755245},\n",
       " {'label': 'hard_round', 'performance': 0.7599067599067598},\n",
       " {'label': 'soft_round', 'performance': 0.8135198135198136}]"
      ]
     },
     "execution_count": 18,
     "metadata": {},
     "output_type": "execute_result"
    },
    {
     "data": {
      "image/png": "[encoded data removed]",
      "text/plain": [
       "<Figure size 576x432 with 1 Axes>"
      ]
     },
     "metadata": {
      "needs_background": "light"
     },
     "output_type": "display_data"
    }
   ],
   "source": [
    "plot_results(experiment_results[name])\n",
    "\n",
    "performance_summary(experiment_results[name])"
   ]
  },
  {
   "cell_type": "code",
   "execution_count": null,
   "metadata": {},
   "outputs": [],
   "source": [
    "max_so_far = -1\n",
    "trials = 100\n",
    "samples = 10000\n",
    "random_train_x = torch.rand(trials*samples, DIM, device=device, dtype=dtype)\n",
    "random_evaluations = weighted_obj(random_train_x).reshape(trials, samples)\n",
    "mean_running_max = random_evaluations.cummax(-1).values.mean(dim=0)\n",
    "mean_running_max[range(0, samples, int(samples/100))]"
   ]
  },
  {
   "cell_type": "code",
   "execution_count": null,
   "metadata": {},
   "outputs": [],
   "source": []
  }
 ],
 "metadata": {
  "kernelspec": {
   "display_name": "Python 3",
   "language": "python",
   "name": "python3"
  },
  "language_info": {
   "codemirror_mode": {
    "name": "ipython",
    "version": 3
   },
   "file_extension": ".py",
   "mimetype": "text/x-python",
   "name": "python",
   "nbconvert_exporter": "python",
   "pygments_lexer": "ipython3",
   "version": "3.8.5"
  }
 },
 "nbformat": 4,
 "nbformat_minor": 2
}
